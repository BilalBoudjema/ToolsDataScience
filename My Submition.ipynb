{
 "cells": [
  {
   "attachments": {},
   "cell_type": "markdown",
   "metadata": {},
   "source": [
    "### Title : My Submition Tools For Data Science"
   ]
  },
  {
   "attachments": {},
   "cell_type": "markdown",
   "metadata": {},
   "source": [
    "### Data Science Langauges \n",
    "- Python\n",
    "- Sql\n",
    "- R \n",
    "- Julia \n",
    "- Scala \n",
    "- Matlab \n",
    "- SAS \n",
    "- Java \n",
    "- C++/C"
   ]
  },
  {
   "attachments": {},
   "cell_type": "markdown",
   "metadata": {},
   "source": [
    "### Data Science Librarys :\n",
    "- Numpy \n",
    "- Pandas \n",
    "- MatplotLib\n",
    "- Keras \n",
    "- TensorFlow \n",
    "- Sickit-Learn\n",
    "- Seaborn"
   ]
  },
  {
   "attachments": {},
   "cell_type": "markdown",
   "metadata": {},
   "source": [
    "### Data Science Tools \n",
    "\n",
    "| Category      | Tool                       | Description                                                                                                                     |\n",
    "|---------------|----------------------------|---------------------------------------------------------------------------------------------------------------------------------|\n",
    "| Programming   | Python                     | Widely used language for data analysis and machine learning.                                                                   |\n",
    "|               | R                          | Language and environment for statistical computing and graphics.                                                               |\n",
    "|               | Julia                      | High-level language for numerical computing and data analysis.                                                                 |\n",
    "| Data Analysis | Pandas                     | Data manipulation and analysis library in Python.                                                                              |\n",
    "|               | NumPy                      | Fundamental package for scientific computing with Python.                                                                      |\n",
    "|               | SQL                        | Language for managing and analyzing relational databases.                                                                      |\n",
    "| Data          | Tableau                    | Data visualization and business intelligence tool.                                                                             |\n",
    "| Visualization | Matplotlib                 | Plotting library for creating static, animated, and interactive visualizations in Python.                                      |\n",
    "|               | Seaborn                    | Statistical data visualization library based on Matplotlib.                                                                   |\n",
    "|               | ggplot2                    | Data visualization package for R, based on the Grammar of Graphics.                                                            |\n",
    "| Machine       | Scikit-learn               | Machine learning library in Python, with various algorithms for classification, regression, clustering, and more.              |\n",
    "| Learning      | TensorFlow                 | Open-source library for machine learning and deep learning, developed by Google.                                              |\n",
    "|               | Keras                      | High-level neural networks API that runs on top of TensorFlow.                                                                |\n",
    "|               | PyTorch                    | Deep learning library known for its flexibility and dynamic computation graphs.                                               |\n",
    "| Big Data       | Apache Hadoop              | Framework for distributed storage and processing of large datasets.                                                           |\n",
    "|               | Apache Spark               | Unified analytics engine for big data processing, with support for distributed computing and machine learning.                |\n",
    "|               | Apache Kafka               | Distributed streaming platform for handling high volumes of real-time data feeds.                                              |\n",
    "| Data          | Apache Airflow             | Platform to programmatically author, schedule, and monitor workflows and data pipelines.                                      |\n",
    "| Pipelines     | Apache Beam                | Unified programming model for batch and streaming data processing.                                                             |\n",
    "|               | Luigi                      | Python library for building complex pipelines of batch jobs.                                                                   |\n",
    "| Version       | Git                        | Distributed version control system for tracking changes in source code during development.                                    |\n",
    "| Control       | GitHub                     | Web-based hosting service for Git repositories, commonly used for collaboration and version control.                          |\n",
    "|               | Bitbucket                  | Web-based version control platform that supports both Git and Mercurial repositories.                                         |\n",
    "| Notebooks     | Jupyter Notebook           | Web application for creating and sharing documents with live code, visualizations, and explanatory text.                      |\n",
    "|               | JupyterLab                 | Next-generation web-based interface for Jupyter Notebook, providing an integrated environment for data science workflows.     |\n",
    "|               | Google Colab               | Cloud-based Jupyter notebook environment by Google, offering free access to GPUs and TPUs for machine learning experiments.    |\n",
    "| Cloud         | Amazon Web Services (AWS)  | Cloud platform offering various services for storage, computing, machine learning, and data analysis.                         |\n",
    "| Platforms     | Microsoft Azure            | Cloud computing service with tools and services for building, deploying, and managing applications and data.                  |\n",
    "|               | Google Cloud Platform (GCP)| Suite of cloud computing services by Google, providing data storage, computing, machine learning, and data analytics tools.    |\n",
    "|               | IBM Watson                 | AI-powered platform with services and tools for data science, machine learning, and natural language processing.              |\n"
   ]
  },
  {
   "attachments": {},
   "cell_type": "markdown",
   "metadata": {},
   "source": [
    "### Arithmetic Expression Examples : \n",
    "\n",
    "Arithmetic expressions involve mathematical operations such as addition, subtraction, multiplication, and division. These expressions allow you to perform calculations and manipulate numerical values. Here are a few examples of arithmetic expressions:\n",
    "\n",
    "1. Addition: The `+` operator is used for addition. For instance, `2 + 3` evaluates to `5`.\n",
    "\n",
    "2. Subtraction: The `-` operator is used for subtraction. For example, `7 - 4` evaluates to `3`.\n",
    "\n",
    "3. Multiplication: The `*` operator is used for multiplication. For instance, `5 * 6` evaluates to `30`.\n",
    "\n",
    "4. Division: The `/` operator is used for division. For example, `10 / 2` evaluates to `5`.\n",
    "\n",
    "5. Modulo: The `%` operator calculates the remainder after division. For example, `13 % 5` evaluates to `3`, as 13 divided by 5 leaves a remainder of 3.\n",
    "\n",
    "6. Exponentiation: The `**` operator is used for exponentiation. For instance, `2 ** 3` evaluates to `8`, as it raises 2 to the power of 3.\n",
    "\n"
   ]
  },
  {
   "attachments": {},
   "cell_type": "markdown",
   "metadata": {},
   "source": [
    "### Multiply and add numbers"
   ]
  },
  {
   "cell_type": "code",
   "execution_count": 5,
   "metadata": {},
   "outputs": [
    {
     "name": "stdout",
     "output_type": "stream",
     "text": [
      "The Result of multiplying 20 by 2 is: 40\n"
     ]
    }
   ],
   "source": [
    "# Multiply Numbers\n",
    "A = 20\n",
    "B = 2 \n",
    "Result = A * B \n",
    "print(\"The Result of multiplying\",A,\"by\",B,\"is:\",Result)"
   ]
  },
  {
   "cell_type": "code",
   "execution_count": 6,
   "metadata": {},
   "outputs": [
    {
     "name": "stdout",
     "output_type": "stream",
     "text": [
      "The Result of Adding 20 to 2 is: 22\n"
     ]
    }
   ],
   "source": [
    "# Adding Numbers: \n",
    "# Multiply Numbers\n",
    "A = 20\n",
    "B = 2 \n",
    "Result = A + B \n",
    "print(\"The Result of Adding\",A,\"to\",B,\"is:\",Result)"
   ]
  },
  {
   "attachments": {},
   "cell_type": "markdown",
   "metadata": {},
   "source": [
    "### Converting Minuts to Hours: "
   ]
  },
  {
   "cell_type": "code",
   "execution_count": 8,
   "metadata": {},
   "outputs": [
    {
     "name": "stdout",
     "output_type": "stream",
     "text": [
      "The result is  2.0\n"
     ]
    }
   ],
   "source": [
    "Minutes= 120\n",
    "Results= Minutes / 60 \n",
    "print(\"The result is \", Results)"
   ]
  },
  {
   "attachments": {},
   "cell_type": "markdown",
   "metadata": {},
   "source": [
    "### Objectifs \n",
    "1. Working Hard\n",
    "2. never Stop Learning"
   ]
  },
  {
   "attachments": {},
   "cell_type": "markdown",
   "metadata": {},
   "source": [
    "#### Author’s name : \n",
    "- Bilal BOUDJEMA"
   ]
  }
 ],
 "metadata": {
  "kernelspec": {
   "display_name": "Python 3",
   "language": "python",
   "name": "python3"
  },
  "language_info": {
   "codemirror_mode": {
    "name": "ipython",
    "version": 3
   },
   "file_extension": ".py",
   "mimetype": "text/x-python",
   "name": "python",
   "nbconvert_exporter": "python",
   "pygments_lexer": "ipython3",
   "version": "3.11.1"
  },
  "orig_nbformat": 4
 },
 "nbformat": 4,
 "nbformat_minor": 2
}
